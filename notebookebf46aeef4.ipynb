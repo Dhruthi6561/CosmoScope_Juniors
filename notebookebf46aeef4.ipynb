{
 "cells": [
  {
   "cell_type": "code",
   "execution_count": 1,
   "id": "55654908",
   "metadata": {
    "execution": {
     "iopub.execute_input": "2023-06-26T18:44:44.973233Z",
     "iopub.status.busy": "2023-06-26T18:44:44.972109Z",
     "iopub.status.idle": "2023-06-26T18:44:57.304562Z",
     "shell.execute_reply": "2023-06-26T18:44:57.303422Z"
    },
    "papermill": {
     "duration": 12.338984,
     "end_time": "2023-06-26T18:44:57.307240",
     "exception": false,
     "start_time": "2023-06-26T18:44:44.968256",
     "status": "completed"
    },
    "tags": []
   },
   "outputs": [
    {
     "name": "stderr",
     "output_type": "stream",
     "text": [
      "/tmp/ipykernel_20/3994416779.py:24: FutureWarning: In a future version of pandas all arguments of DataFrame.drop except for the argument 'labels' will be keyword-only.\n",
      "  x = np.array(data.drop([predict], 1))\n"
     ]
    },
    {
     "name": "stdout",
     "output_type": "stream",
     "text": [
      "0.9927797833935018\n",
      "Predicted:  1 Actual:  2\n",
      "Predicted:  1 Actual:  2\n",
      "Predicted:  1 Actual:  2\n",
      "Predicted:  1 Actual:  2\n",
      "Predicted:  1 Actual:  2\n",
      "Predicted:  1 Actual:  2\n",
      "Predicted:  1 Actual:  2\n",
      "Predicted:  1 Actual:  2\n",
      "Predicted:  1 Actual:  2\n",
      "Predicted:  1 Actual:  2\n",
      "Predicted:  1 Actual:  2\n",
      "Predicted:  1 Actual:  2\n",
      "Predicted:  1 Actual:  2\n",
      "Predicted:  1 Actual:  2\n",
      "Predicted:  1 Actual:  2\n",
      "Predicted:  1 Actual:  2\n",
      "Predicted:  1 Actual:  2\n",
      "Predicted:  1 Actual:  2\n",
      "Predicted:  1 Actual:  2\n",
      "Predicted:  1 Actual:  2\n",
      "Predicted:  1 Actual:  2\n",
      "Predicted:  1 Actual:  2\n",
      "Predicted:  1 Actual:  2\n",
      "Predicted:  1 Actual:  2\n",
      "Predicted:  1 Actual:  2\n",
      "Predicted:  1 Actual:  2\n",
      "Predicted:  1 Actual:  2\n",
      "Predicted:  1 Actual:  2\n",
      "Predicted:  1 Actual:  2\n",
      "Predicted:  1 Actual:  2\n",
      "Predicted:  1 Actual:  2\n",
      "Predicted:  1 Actual:  2\n",
      "Predicted:  1 Actual:  2\n",
      "Predicted:  1 Actual:  2\n",
      "Predicted:  1 Actual:  2\n",
      "Predicted:  1 Actual:  2\n"
     ]
    }
   ],
   "source": [
    "import sklearn\n",
    "from sklearn.utils import shuffle\n",
    "from sklearn.neighbors import KNeighborsClassifier\n",
    "import pandas as pd\n",
    "import numpy as np\n",
    "from sklearn import linear_model, preprocessing\n",
    "data =pd.read_csv('/kaggle/input/d/saurav9423024943434/exotraincsv/exoTrain.csv')\n",
    "data1=pd.read_csv('/kaggle/input/mission-possible/unlabelled_data.csv')\n",
    "'''\n",
    "print(data.head())\n",
    "'''\n",
    "lis=[]\n",
    "for i in range(1, 3198):\n",
    "    lis.append(f\"FLUX.{i}\")\n",
    "#print(lis)\n",
    "lis1=[\"LABEL\"]+lis\n",
    "#data1=data1[[\"FLUX.1\", \"FLUX.7\", \"FLUX.8\", \"FLUX.9\", \"FLUX.10\", \"FLUX.11\", \"FLUX.12\", \"FLUX.13\", \"FLUX.14\", \"FLUX.15\",\"FLUX.2\", \"FLUX.3\", \"FLUX.4\", \"FLUX.5\", \"FLUX.6\", \"FLUX.16\",\"FLUX.17\", \"FLUX.18\",\"FLUX.19\",\"FLUX.20\", \"FLUX.21\", \"FLUX.22\", \"FLUX.23\", \"FLUX.24\", \"FLUX.25\"]]\n",
    "#data = data[[\"LABEL\", \"FLUX.1\", \"FLUX.7\", \"FLUX.8\", \"FLUX.9\", \"FLUX.10\", \"FLUX.11\", \"FLUX.12\", \"FLUX.13\", \"FLUX.14\", \"FLUX.15\", \"FLUX.2\", \"FLUX.3\", \"FLUX.4\", \"FLUX.5\", \"FLUX.6\", \"FLUX.16\",\"FLUX.17\", \"FLUX.18\", \"FLUX.19\",\"FLUX.20\", \"FLUX.21\", \"FLUX.22\", \"FLUX.23\", \"FLUX.24\", \"FLUX.25\"]]\n",
    "data1=data1[lis]\n",
    "data=data[lis1]\n",
    "predict = \"LABEL\"\n",
    "predict1=\"FLUX.1\"\n",
    "\n",
    "x = np.array(data.drop([predict], 1))\n",
    "y = np.array(data[predict])\n",
    "x1=np.array(data1)\n",
    "x_train, x_test, y_train, y_test = sklearn.model_selection.train_test_split(x, y, test_size = 0.98)\n",
    "\n",
    "model = KNeighborsClassifier(n_neighbors=49)\n",
    "\n",
    "model.fit(x_train, y_train)\n",
    "acc = model.score(x_test, y_test)\n",
    "print(acc)\n",
    "predicted1=model.predict(x1)\n",
    "predicted = model.predict(x_test)\n",
    "#names = [\"1\",\"2\"]\n",
    "''', \"Data: \", x_test[x], \"Actual: \", names[y_test[x]])\n",
    "    n = model.kneighbors([x_test[x]], 9, True)\n",
    "    print(\"N: \", n)'''\n",
    "#print(len(predicted1))\n",
    "\n",
    "#for x in range(len(predicted1)):\n",
    "#    print(\"Predicted: \", predicted1[x])\n",
    "\n",
    "for x in range(len(predicted)):\n",
    "    #print(\"Predicted: \", names[predicted[x]], \"Actual: \", \"Data: \", x_test[x], names[y_test[x]])\n",
    "    if y_test[x]==2:\n",
    "        print(\"Predicted: \", predicted[x], \"Actual: \", y_test[x])\n"
   ]
  }
 ],
 "metadata": {
  "kernelspec": {
   "display_name": "Python 3",
   "language": "python",
   "name": "python3"
  },
  "language_info": {
   "codemirror_mode": {
    "name": "ipython",
    "version": 3
   },
   "file_extension": ".py",
   "mimetype": "text/x-python",
   "name": "python",
   "nbconvert_exporter": "python",
   "pygments_lexer": "ipython3",
   "version": "3.10.10"
  },
  "papermill": {
   "default_parameters": {},
   "duration": 24.634858,
   "end_time": "2023-06-26T18:44:58.230327",
   "environment_variables": {},
   "exception": null,
   "input_path": "__notebook__.ipynb",
   "output_path": "__notebook__.ipynb",
   "parameters": {},
   "start_time": "2023-06-26T18:44:33.595469",
   "version": "2.4.0"
  }
 },
 "nbformat": 4,
 "nbformat_minor": 5
}
