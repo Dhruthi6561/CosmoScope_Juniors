import matplotlib.pyplot as plt
from sklearn.model_selection import train_test_split
from sklearn.ensemble import RandomForestClassifier
from sklearn.metrics import accuracy_score
import pandas as pd

labelled_data = pd.read_csv('labelled_data.csv')


labelled_data.info()

x = labelled_data.iloc[1:,1:].values
y = labelled_data.iloc[1:,0].values

# Split the data into training and validation sets
X_train, X_val, y_train, y_val = train_test_split(x, y, test_size=0.6, random_state=42)

# Create an instance of the Random Forest classifier
model = RandomForestClassifier()

# Train the model on the labeled data
model.fit(X_train, y_train)

# Make predictions on the validation set
y_pred = model.predict(X_val)

# Calculate accuracy
accuracy = accuracy_score(y_val, y_pred)
print("Validation Accuracy:", accuracy)

# Load the unlabelled data
unlabelled_data = pd.read_csv('unlabelled_data.csv')

# Select the same subset of features for unlabeled data as used in training
unlabelled_data_subset = unlabelled_data.iloc[1:, 1:]

# Make predictions on the unlabelled data
predictions = model.predict(unlabelled_data_subset)

# Print the predictions
print(predictions)




